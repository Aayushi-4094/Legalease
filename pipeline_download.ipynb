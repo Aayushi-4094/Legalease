{
 "cells": [
  {
   "cell_type": "code",
   "execution_count": 1,
   "id": "378ba3db",
   "metadata": {},
   "outputs": [],
   "source": [
    "from transformers import pipeline \n",
    "# from transformers import T5ForConditionalGeneration, T5Tokenizer\n"
   ]
  },
  {
   "cell_type": "code",
   "execution_count": 4,
   "id": "3014e4c2",
   "metadata": {},
   "outputs": [],
   "source": [
    "model_id = \"google/flan-t5-large\""
   ]
  },
  {
   "cell_type": "code",
   "execution_count": 5,
   "id": "ec02786b",
   "metadata": {},
   "outputs": [
    {
     "name": "stderr",
     "output_type": "stream",
     "text": [
      "Device set to use cpu\n"
     ]
    }
   ],
   "source": [
    "summarizer = pipeline(\"summarization\", model=model_id)"
   ]
  },
  {
   "cell_type": "code",
   "execution_count": 6,
   "id": "89f3041c",
   "metadata": {},
   "outputs": [],
   "source": [
    "result = summarizer(\n",
    "    \"The tower is 324 metres (1,063 ft) tall, about the same height as an 81-storey building, \"\n",
    "    \"and the tallest structure in Paris. Its base is square, measuring 125 metres (410 ft) on each side. \"\n",
    "    \"During its construction, the Eiffel Tower surpassed the Washington Monument to become the tallest \"\n",
    "    \"man-made structure in the world, a title it held for 41 years until the Chrysler Building in New York \"\n",
    "    \"City was finished in 1930. It was the first structure to reach a height of 300 metres. Due to the \"\n",
    "    \"addition of a broadcasting aerial at the top of the tower in 1957, it is now taller than the \"\n",
    "    \"Chrysler Building by 5.2 metres (17 ft). Excluding transmitters, the Eiffel Tower is the second \"\n",
    "    \"tallest free-standing structure in France after the Millau Viaduct.\"\n",
    ")"
   ]
  },
  {
   "cell_type": "code",
   "execution_count": 7,
   "id": "ef588b5c",
   "metadata": {},
   "outputs": [
    {
     "data": {
      "text/plain": [
       "[{'summary_text': 'The Eiffel Tower is the tallest free-standing structure in France'}]"
      ]
     },
     "execution_count": 7,
     "metadata": {},
     "output_type": "execute_result"
    }
   ],
   "source": [
    "result"
   ]
  },
  {
   "cell_type": "code",
   "execution_count": null,
   "id": "fb50c482",
   "metadata": {},
   "outputs": [],
   "source": []
  }
 ],
 "metadata": {
  "kernelspec": {
   "display_name": "Python (legalease)",
   "language": "python",
   "name": "legalease"
  },
  "language_info": {
   "codemirror_mode": {
    "name": "ipython",
    "version": 3
   },
   "file_extension": ".py",
   "mimetype": "text/x-python",
   "name": "python",
   "nbconvert_exporter": "python",
   "pygments_lexer": "ipython3",
   "version": "3.11.3"
  }
 },
 "nbformat": 4,
 "nbformat_minor": 5
}
